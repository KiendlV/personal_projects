{
 "cells": [
  {
   "cell_type": "code",
   "execution_count": 1,
   "metadata": {},
   "outputs": [],
   "source": [
    "import torch\n",
    "import cv2\n",
    "import numpy as np"
   ]
  },
  {
   "cell_type": "code",
   "execution_count": 2,
   "metadata": {},
   "outputs": [],
   "source": [
    "image_1 = cv2.imread(r\"C:\\Users\\kiend\\Documents\\personal_projects\\Frames\\frame1.jpg\")\n",
    "image_2 = cv2.imread(r\"C:\\Users\\kiend\\Documents\\personal_projects\\Frames\\frame2.jpg\")"
   ]
  },
  {
   "cell_type": "code",
   "execution_count": 3,
   "metadata": {},
   "outputs": [],
   "source": [
    "input = [image_1,image_2]"
   ]
  },
  {
   "cell_type": "code",
   "execution_count": 4,
   "metadata": {},
   "outputs": [],
   "source": [
    "def gray_scaler(input):\n",
    "    img_list = []\n",
    "    for _ in input:\n",
    "        gray = cv2.cvtColor(_, cv2.COLOR_BGR2GRAY)\n",
    "        frame = gray/255\n",
    "        img_list.append(frame)\n",
    "        return img_list"
   ]
  },
  {
   "cell_type": "code",
   "execution_count": 7,
   "metadata": {},
   "outputs": [
    {
     "data": {
      "text/plain": [
       "torch.Size([1, 480, 640])"
      ]
     },
     "execution_count": 7,
     "metadata": {},
     "output_type": "execute_result"
    }
   ],
   "source": [
    "image_n = torch.tensor(gray_scaler(np.array(input)),dtype=torch.float32)\n",
    "image_n.shape"
   ]
  },
  {
   "cell_type": "code",
   "execution_count": 8,
   "metadata": {},
   "outputs": [],
   "source": [
    "from torch.utils.data import Dataset\n",
    "\n",
    "class ImgDataSet(Dataset):\n",
    "    def __init__(self,tensors,transforms=None):\n",
    "        super().__init__()\n",
    "        self.tensors = tensors\n",
    "        self.transforms = transforms"
   ]
  },
  {
   "cell_type": "code",
   "execution_count": 9,
   "metadata": {},
   "outputs": [],
   "source": [
    "img_dts = ImgDataSet(image_n)"
   ]
  },
  {
   "cell_type": "code",
   "execution_count": 29,
   "metadata": {},
   "outputs": [],
   "source": [
    "class CNN(torch.nn.Module):\n",
    "    def __init__(self,classes) -> None:\n",
    "        super(CNN,self).__init__()\n",
    "\n",
    "        self.conv_1 = torch.nn.Conv2d(in_channels=1,out_channels=20,kernel_size=(5,5))\n",
    "        self.Relu_1 = torch.nn.ReLU()\n",
    "        self.maxpool_1 = torch.nn.MaxPool2d(kernel_size=(2,2),stride=(2,2))\n",
    "\n",
    "        self.con_2 = torch.nn.Conv2d(in_channels=20,out_channels=50,kernel_size=(5,5))\n",
    "        self.Relu_2 = torch.nn.ReLU()\n",
    "        self.maxpool_2 = torch.nn.MaxPool2d(kernel_size=(2,2),stride=(2,2))\n",
    "\n",
    "        self.lin_3 = torch.nn.Linear(in_features=157, out_features=500)\n",
    "        self.ReLu_3 = torch.nn.ReLU()\n",
    "\n",
    "        self.lin_4 = torch.nn.Linear(in_features=500, out_features=classes)\n",
    "        self.log_4 = torch.nn.LogSoftmax(dim=1)\n",
    "\n",
    "\n",
    "\n",
    "\n",
    "    def forward(self,x):\n",
    "\n",
    "        x = self.conv_1(x)\n",
    "        x = self.Relu_1(x)\n",
    "        x = self.maxpool_1(x)\n",
    "\n",
    "        print(x.shape)\n",
    "\n",
    "        x = self.con_2(x)\n",
    "        x = self.Relu_2(x)\n",
    "        x = self.maxpool_2(x)\n",
    "\n",
    "        print(x.shape)\n",
    "\n",
    "        x = self.lin_3(x)\n",
    "        x = self.ReLu_3(x)\n",
    "\n",
    "        x = self.lin_4(x)\n",
    "        x = self.log_4(x)\n",
    "\n",
    "        return x"
   ]
  },
  {
   "cell_type": "code",
   "execution_count": 30,
   "metadata": {},
   "outputs": [],
   "source": [
    "model = CNN(classes=2)"
   ]
  },
  {
   "cell_type": "code",
   "execution_count": 31,
   "metadata": {},
   "outputs": [
    {
     "name": "stdout",
     "output_type": "stream",
     "text": [
      "torch.Size([20, 238, 318])\n",
      "torch.Size([50, 117, 157])\n"
     ]
    },
    {
     "data": {
      "text/plain": [
       "tensor([[[-4.7622, -4.7624],\n",
       "         [-4.7622, -4.7624],\n",
       "         [-4.7623, -4.7626],\n",
       "         ...,\n",
       "         [-4.7622, -4.7625],\n",
       "         [-4.7622, -4.7625],\n",
       "         [-4.7622, -4.7625]],\n",
       "\n",
       "        [[-4.7694, -4.7722],\n",
       "         [-4.7690, -4.7729],\n",
       "         [-4.7689, -4.7725],\n",
       "         ...,\n",
       "         [-4.7678, -4.7695],\n",
       "         [-4.7675, -4.7697],\n",
       "         [-4.7683, -4.7705]],\n",
       "\n",
       "        [[-4.7622, -4.7628],\n",
       "         [-4.7622, -4.7625],\n",
       "         [-4.7622, -4.7628],\n",
       "         ...,\n",
       "         [-4.7621, -4.7625],\n",
       "         [-4.7620, -4.7625],\n",
       "         [-4.7621, -4.7625]],\n",
       "\n",
       "        ...,\n",
       "\n",
       "        [[-4.7687, -4.7780],\n",
       "         [-4.7692, -4.7768],\n",
       "         [-4.7689, -4.7769],\n",
       "         ...,\n",
       "         [-4.7700, -4.7724],\n",
       "         [-4.7700, -4.7720],\n",
       "         [-4.7710, -4.7727]],\n",
       "\n",
       "        [[-4.7622, -4.7622],\n",
       "         [-4.7622, -4.7622],\n",
       "         [-4.7622, -4.7622],\n",
       "         ...,\n",
       "         [-4.7622, -4.7622],\n",
       "         [-4.7622, -4.7622],\n",
       "         [-4.7622, -4.7622]],\n",
       "\n",
       "        [[-4.7622, -4.7622],\n",
       "         [-4.7622, -4.7622],\n",
       "         [-4.7622, -4.7622],\n",
       "         ...,\n",
       "         [-4.7622, -4.7622],\n",
       "         [-4.7622, -4.7622],\n",
       "         [-4.7622, -4.7622]]], grad_fn=<LogSoftmaxBackward0>)"
      ]
     },
     "execution_count": 31,
     "metadata": {},
     "output_type": "execute_result"
    }
   ],
   "source": [
    "model.forward(image_n)"
   ]
  }
 ],
 "metadata": {
  "kernelspec": {
   "display_name": "Python 3",
   "language": "python",
   "name": "python3"
  },
  "language_info": {
   "codemirror_mode": {
    "name": "ipython",
    "version": 3
   },
   "file_extension": ".py",
   "mimetype": "text/x-python",
   "name": "python",
   "nbconvert_exporter": "python",
   "pygments_lexer": "ipython3",
   "version": "3.12.1"
  }
 },
 "nbformat": 4,
 "nbformat_minor": 2
}
