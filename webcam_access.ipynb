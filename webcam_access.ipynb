{
 "cells": [
  {
   "cell_type": "code",
   "execution_count": null,
   "metadata": {},
   "outputs": [],
   "source": [
    "import cv2\n",
    "import matplotlib.pyplot as plt\n",
    "\n",
    "import time"
   ]
  },
  {
   "cell_type": "code",
   "execution_count": null,
   "metadata": {},
   "outputs": [],
   "source": [
    "def frame_cap(idx,labels):\n",
    "    cap = cv2.VideoCapture(0)\n",
    "    _ , frame = cap.read() # to open the connection\n",
    "    #g_frame = cv2.cvtColor(frame,cv2.COLOR_BGR2GRAY) # use this for a grayscaled version\n",
    "\n",
    "    cv2.imwrite(f\"frames/{labels}\"+f\"/frame_type_{labels}_{idx}.jpg\",frame)\n",
    "    cv2.imshow(\"frame\",frame)\n",
    "    \n",
    "    cap.release() # to close the connection\n",
    "    cv2.destroyAllWindows()\n",
    "    return frame"
   ]
  },
  {
   "cell_type": "code",
   "execution_count": null,
   "metadata": {},
   "outputs": [],
   "source": [
    "plt.imshow(frame_cap(0,0))"
   ]
  },
  {
   "cell_type": "code",
   "execution_count": null,
   "metadata": {},
   "outputs": [],
   "source": [
    "cap = cv2.VideoCapture(0)\n",
    "object_detector = cv2.createBackgroundSubtractorMOG2(history=100,varThreshold=5)\n",
    "while cap.isOpened():\n",
    "    ret, frame = cap.read()\n",
    "    g_frame = cv2.cvtColor(frame,cv2.COLOR_BGR2GRAY)\n",
    "\n",
    "    mask = object_detector.apply(g_frame)\n",
    "\n",
    "    # use this code to draw elements of motion\n",
    "    \"\"\"\n",
    "    contours, _ = cv2.findContours(mask,cv2.RETR_TREE, cv2.CHAIN_APPROX_SIMPLE)\n",
    "\n",
    "    for cnt in contours:\n",
    "        cv2.drawContours(mask, [cnt], -1, (0,255,0), 2)\n",
    "    \"\"\"\n",
    "    cv2.imshow(\"Webcam\", g_frame)\n",
    "    cv2.imshow(\"Mask\",mask)\n",
    "\n",
    "    if cv2.waitKey(1) & 0xFF == ord('q'):\n",
    "        break\n",
    "cap.release()\n",
    "cv2.destroyAllWindows()"
   ]
  },
  {
   "cell_type": "code",
   "execution_count": null,
   "metadata": {},
   "outputs": [],
   "source": [
    "labels = [\"peace\",\"hello\"]\n",
    "number_img = 10"
   ]
  },
  {
   "cell_type": "code",
   "execution_count": null,
   "metadata": {},
   "outputs": [],
   "source": [
    "def get_pictures():\n",
    "    for label in labels:\n",
    "        time.sleep(5)\n",
    "        for imgnum in range(number_img):\n",
    "            frame_cap(imgnum,label)\n",
    "            time.sleep(2)"
   ]
  },
  {
   "cell_type": "code",
   "execution_count": null,
   "metadata": {},
   "outputs": [],
   "source": [
    "get_pictures()"
   ]
  }
 ],
 "metadata": {
  "kernelspec": {
   "display_name": "Python 3",
   "language": "python",
   "name": "python3"
  },
  "language_info": {
   "codemirror_mode": {
    "name": "ipython",
    "version": 3
   },
   "file_extension": ".py",
   "mimetype": "text/x-python",
   "name": "python",
   "nbconvert_exporter": "python",
   "pygments_lexer": "ipython3",
   "version": "3.11.4"
  }
 },
 "nbformat": 4,
 "nbformat_minor": 2
}
